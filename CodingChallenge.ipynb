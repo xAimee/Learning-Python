{
 "cells": [
  {
   "cell_type": "markdown",
   "metadata": {},
   "source": [
    "# Easy Coding Challenges in Python"
   ]
  },
  {
   "cell_type": "markdown",
   "metadata": {},
   "source": [
    "### sleep_in\n",
    "\n",
    "\n",
    "The parameter weekday is True if it is a weekday, and the parameter vacation is True if we are on vacation. We sleep in if it is not a weekday or we're on vacation. Return True if we sleep in."
   ]
  },
  {
   "cell_type": "code",
   "execution_count": 1,
   "metadata": {
    "collapsed": true
   },
   "outputs": [],
   "source": [
    "def sleep_in(weekday, vacation):\n",
    "  \n",
    "  if (not weekday and vacation) or (weekday and vacation) or (not weekday and not vacation) :\n",
    "    return True\n",
    "  else:\n",
    "    return False\n",
    "  \n",
    "    \n"
   ]
  },
  {
   "cell_type": "code",
   "execution_count": 2,
   "metadata": {},
   "outputs": [],
   "source": [
    "assert sleep_in(False, False) == True\n",
    "assert sleep_in(True, False) == False\n",
    "assert sleep_in(False, True) == True "
   ]
  },
  {
   "cell_type": "markdown",
   "metadata": {},
   "source": [
    "### monkey_trouble \n",
    "\n",
    "We have two monkeys, a and b, and the parameters a_smile and b_smile indicate if each is smiling. We are in trouble if they are both smiling or if neither of them is smiling. Return True if we are in trouble.\n",
    "\n"
   ]
  },
  {
   "cell_type": "code",
   "execution_count": 3,
   "metadata": {},
   "outputs": [],
   "source": [
    "def monkey_trouble(a_smile, b_smile):\n",
    "    if a_smile and  b_smile:\n",
    "        return True\n",
    "    if not  a_smile and not b_smile:\n",
    "        return True\n",
    "    return False\n",
    "      \n",
    "    \n"
   ]
  },
  {
   "cell_type": "code",
   "execution_count": 4,
   "metadata": {},
   "outputs": [],
   "source": [
    "assert monkey_trouble(True, True) == True \n",
    "assert  monkey_trouble(False, False) == True\n",
    "assert monkey_trouble(True, False) == False"
   ]
  },
  {
   "cell_type": "markdown",
   "metadata": {},
   "source": [
    "### sum_double \n",
    "\n",
    "Given two int values, return their sum. Unless the two values are the same, then return double their sum.\n",
    "\n"
   ]
  },
  {
   "cell_type": "code",
   "execution_count": 5,
   "metadata": {
    "collapsed": true
   },
   "outputs": [],
   "source": [
    "def sum_double(a, b):\n",
    "  \n",
    "  if a == b:\n",
    "    return (a+b)*2\n",
    "  else:\n",
    "    return a+b\n"
   ]
  },
  {
   "cell_type": "code",
   "execution_count": 6,
   "metadata": {},
   "outputs": [],
   "source": [
    "assert sum_double(1, 2) == 3 \n",
    "assert sum_double(3, 2) == 5 \n",
    "assert sum_double(2, 2) == 8"
   ]
  },
  {
   "cell_type": "markdown",
   "metadata": {},
   "source": [
    "### diff21 \n",
    "\n",
    "Given an int n, return the absolute difference between n and 21, except return double the absolute difference if n is over 21."
   ]
  },
  {
   "cell_type": "code",
   "execution_count": 7,
   "metadata": {
    "collapsed": true
   },
   "outputs": [],
   "source": [
    "def diff21(n):\n",
    "      if n > 21:\n",
    "        return (n - 21)*2\n",
    "      else:\n",
    "        return 21-n\n",
    "    "
   ]
  },
  {
   "cell_type": "code",
   "execution_count": 8,
   "metadata": {
    "collapsed": true
   },
   "outputs": [],
   "source": [
    "assert diff21(19) == 2\n",
    "assert diff21(10) == 11\n",
    "assert diff21(21) == 0"
   ]
  },
  {
   "cell_type": "markdown",
   "metadata": {},
   "source": [
    "### parrot_trouble \n",
    "\n",
    "We have a loud talking parrot. The \"hour\" parameter is the current hour time in the range 0..23. We are in trouble if the parrot is talking and the hour is before 7 or after 20. Return True if we are in trouble."
   ]
  },
  {
   "cell_type": "code",
   "execution_count": 9,
   "metadata": {
    "collapsed": true
   },
   "outputs": [],
   "source": [
    "def parrot_trouble(talking, hour):\n",
    "    if talking and ((hour <7) or (hour > 20)):\n",
    "        return True\n",
    "    else:\n",
    "        return False\n"
   ]
  },
  {
   "cell_type": "code",
   "execution_count": 10,
   "metadata": {
    "collapsed": true
   },
   "outputs": [],
   "source": [
    "assert parrot_trouble(True, 6) == True\n",
    "assert parrot_trouble(True, 7) == False\n",
    "assert parrot_trouble(False, 6) == False"
   ]
  },
  {
   "cell_type": "markdown",
   "metadata": {},
   "source": [
    "### makes10 \n",
    "\n",
    "Given 2 ints, a and b, return True if one if them is 10 or if their sum is 10."
   ]
  },
  {
   "cell_type": "code",
   "execution_count": 11,
   "metadata": {
    "collapsed": true
   },
   "outputs": [],
   "source": [
    "def makes10(a, b):\n",
    "      if (a == 10) or (b == 10) or (a + b == 10):\n",
    "        return True\n",
    "      else:\n",
    "        return False"
   ]
  },
  {
   "cell_type": "code",
   "execution_count": 12,
   "metadata": {
    "collapsed": true
   },
   "outputs": [],
   "source": [
    "assert makes10(9, 10) == True\n",
    "assert makes10(9, 9) == False\n",
    "assert makes10(1, 9) == True"
   ]
  },
  {
   "cell_type": "markdown",
   "metadata": {},
   "source": [
    " ### near_hundred \n",
    "\n",
    "Given an int n, return True if it is within 10 of 100 or 200. Note: abs(num) computes the absolute value of a number."
   ]
  },
  {
   "cell_type": "code",
   "execution_count": 13,
   "metadata": {
    "collapsed": true
   },
   "outputs": [],
   "source": [
    "def near_hundred(n):\n",
    "  \n",
    "  return ((abs(100-n) <= 10) or (abs(200 - n) <= 10) )\n",
    "\n",
    "  "
   ]
  },
  {
   "cell_type": "code",
   "execution_count": 14,
   "metadata": {
    "collapsed": true
   },
   "outputs": [],
   "source": [
    "assert near_hundred(93) == True\n",
    "assert near_hundred(90) == True\n",
    "assert near_hundred(89) == False"
   ]
  },
  {
   "cell_type": "markdown",
   "metadata": {},
   "source": [
    "### pos_neg \n",
    "\n",
    "Given 2 int values, return True if one is negative and one is positive. Except if the parameter \"negative\" is True, then return True only if both are negative.\n",
    "\n"
   ]
  },
  {
   "cell_type": "code",
   "execution_count": 15,
   "metadata": {},
   "outputs": [],
   "source": [
    "def pos_neg(a, b, negative):\n",
    "    if negative:\n",
    "        return (a < 0 and b < 0)\n",
    "    else:\n",
    "        return ((a>0 and b<0) or (a<0 and b>0))"
   ]
  },
  {
   "cell_type": "code",
   "execution_count": 16,
   "metadata": {},
   "outputs": [],
   "source": [
    "assert pos_neg(1, -1, False) == True\n",
    "assert pos_neg(-1, 1, False) == True\n",
    "assert pos_neg(-4, -5, True) == True"
   ]
  },
  {
   "cell_type": "code",
   "execution_count": null,
   "metadata": {
    "collapsed": true
   },
   "outputs": [],
   "source": []
  },
  {
   "cell_type": "code",
   "execution_count": null,
   "metadata": {
    "collapsed": true
   },
   "outputs": [],
   "source": []
  },
  {
   "cell_type": "code",
   "execution_count": null,
   "metadata": {
    "collapsed": true
   },
   "outputs": [],
   "source": []
  }
 ],
 "metadata": {
  "kernelspec": {
   "display_name": "Python 3",
   "language": "python",
   "name": "python3"
  },
  "language_info": {
   "codemirror_mode": {
    "name": "ipython",
    "version": 3
   },
   "file_extension": ".py",
   "mimetype": "text/x-python",
   "name": "python",
   "nbconvert_exporter": "python",
   "pygments_lexer": "ipython3",
   "version": "3.6.3"
  }
 },
 "nbformat": 4,
 "nbformat_minor": 2
}
